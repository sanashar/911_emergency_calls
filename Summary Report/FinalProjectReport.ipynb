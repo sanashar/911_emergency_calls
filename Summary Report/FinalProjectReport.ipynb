{
  "nbformat": 4,
  "nbformat_minor": 0,
  "metadata": {
    "colab": {
      "name": "FinalProjectReport.ipynb",
      "provenance": [],
      "collapsed_sections": []
    },
    "kernelspec": {
      "name": "python3",
      "display_name": "Python 3"
    }
  },
  "cells": [
    {
      "cell_type": "markdown",
      "metadata": {
        "id": "uNyBZwIxkeZU"
      },
      "source": [
        "# **Data 602: Final Project**\n",
        "# **Prediciting 911 Call Type**"
      ]
    },
    {
      "cell_type": "markdown",
      "metadata": {
        "id": "nkgFYIKkwz5j"
      },
      "source": [
        "![911_call.jpg](data:image/jpeg;base64,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)"
      ]
    },
    {
      "cell_type": "markdown",
      "metadata": {
        "id": "wBKxzzkJkjVt"
      },
      "source": [
        " # **Abstract**"
      ]
    },
    {
      "cell_type": "markdown",
      "metadata": {
        "id": "_Zrdmcg5kjHE"
      },
      "source": [
        "Police Force and Ambulance Services are critical resources in the times of crisis. The 911 Program's mission is to provide federal leadership and coordination in supporting and promoting optimal 911 services. The dataset I am using is about 911 calls and is available through kaggle. In this project I had the opportunity to look into 911 calls closely, which areas are affected the most and their corresponding reason. 911 is an important resource and data analytics of this would be helpful for communities and 911 operators.  \n",
        "\n",
        "I used fully connected layer to check how well my model works and though experimental results the model gives 99% validation accuracy and very low validation loss."
      ]
    },
    {
      "cell_type": "markdown",
      "metadata": {
        "id": "opTyGXvYkjDJ"
      },
      "source": [
        "# **Introduction & Motivation**"
      ]
    },
    {
      "cell_type": "markdown",
      "metadata": {
        "id": "MgYWXs1Qki6Y"
      },
      "source": [
        "The crime rates have been increasing in recent times and so is the volume of 911 calls made. In such circumstance, a quick response to any 911 call is crucial. Keeping this in mind, it becomes critical to quickly and\n",
        "correctly process any 911 calls made and be ready for any kind of situations. This can be achieved by finding out patterns between time and day of the week and the type of calls made.\n",
        "\n",
        "With the present 911 call system, citizen has to remember only one number during all types of emergencies. However, with more people using this system, it has become difficult to effectivly process each call with minimum response time. Thus, the accuracy of the algorithm and speed of analysis are important factors. It is essential to use the right processing technique to empower our forces with the correct information in anticipation of any situation that might need immediate attention. A good understanding of these calls will help with resource allocation and also might help reduce the stress of 911 operators. "
      ]
    },
    {
      "cell_type": "markdown",
      "metadata": {
        "id": "eEhaAW-Kkiud"
      },
      "source": [
        "# **Business Problem and Corresponding Machine Learning Problem**"
      ]
    },
    {
      "cell_type": "markdown",
      "metadata": {
        "id": "4OQavsqTlNtL"
      },
      "source": [
        "As per my study, a lot of cases have been reported through 911. The goal of my research project was to check which of the problems out of these 3 i.e. Fire, Traffic and EMS(Emergency Medical Service), has highest number of calls. I accomplished this goal by using TensorFlow Neural Network and one of the techniques Exploratory Data Analysis. This research will prove helpful to guide current services for improvement in their respective domains."
      ]
    },
    {
      "cell_type": "markdown",
      "metadata": {
        "id": "mpu8j9CDlNpZ"
      },
      "source": [
        "# **Data Dictionary**"
      ]
    },
    {
      "cell_type": "markdown",
      "metadata": {
        "id": "EeukapoalNmC"
      },
      "source": [
        "The 911 calls dataset contains calls to 911 (emergency calls) in Montgomery County Pennsylvania and is available through [kaggle](https://www.kaggle.com/mchirico/montcoalert) that has data from 2016 to 2020. It has 50000 rows and 9 columns. Most emergency calls are for Fire, Traffic, EMS for Montgomery County, PA. \n",
        "\n",
        "The data contains the following fields:\n",
        "\n",
        "1. lat : String variable, Latitude\n",
        "2. lng: String variable, Longitude\n",
        "3. desc: String variable, Description of the Emergency Call\n",
        "4. zip: String variable, Zipcode\n",
        "5. title: String variable, Title\n",
        "6. timeStamp: String variable, YYYY-MM-DD HH:MM:SS\n",
        "7. twp: String variable, Township\n",
        "8. addr: String variable, Address\n",
        "9. e: String variable, Dummy variable (always 1)"
      ]
    },
    {
      "cell_type": "markdown",
      "metadata": {
        "id": "6GKw8tK0lNbo"
      },
      "source": [
        "# **Proposed Method**"
      ]
    },
    {
      "cell_type": "markdown",
      "metadata": {
        "id": "vO-s0D61lM9R"
      },
      "source": [
        "I will be using exploratory data analysis and machine learning techniques and apply TensorFlow for classification. I will be using keras to train my model as it wraps the efficient numerical computation libraries in TensorFlow.  \n",
        "I will first load the dataset from kaggle and perform exploratory data analysis i.e. data cleaning and visualization using python to understand the dataset better.The first step was to load the dataset from kaggle and perform exploratory data analysis i.e. data cleaning and visualization using python to understand the dataset better. The second step is to create a model using keras and ckeck the accuracy of the model."
      ]
    },
    {
      "cell_type": "markdown",
      "metadata": {
        "id": "Ev8e97KblMwZ"
      },
      "source": [
        "# **Experiments**"
      ]
    },
    {
      "cell_type": "markdown",
      "metadata": {
        "id": "tA37fjhZnQam"
      },
      "source": [
        "For this project I am using Google Colaboratory notebook with python programming language to write the script. After importing the libraries and loading the dataset from kaggle, I performed the exploratory data analysis and observed some missing values in the zipcode and twp columns. There are 50000 rows and 9 columns. \n",
        "\n",
        "After the data exploration, I did some visual analysis to plot the 3 reasons to call 911 and highest number of calls received for a particur reason. Then I formatted the date and time stamp and used seaborn to plot which reasons had the highest call on which days of the month. I also plotted a heatmap to see the coorelatio of calls within a day. \n",
        "\n",
        "For machine learning, I started with using keras preprocessing layers to tokenize words and then applied one-hot encoding as it allows the representation of categorical data to be more expressive. Many machine learning algorithms cannot work with categorical data directly. When one-hot encoding is used for the output variable, it may offer a more nuanced set of predictions than a single label. Afterwhich, I split the data into train and test with the ratio of 7:3 giving 70% of the data for training and 30% for later testing. I fed the training data namely, xtrain, desc_train, addr_train (training data of scalar values and 2 columns which were converting into numerical data respectively) into dense layer to make the model fully connected and using relu as activation function to overcome the vanishing gradient problem. Finally concatenating each processed data using concatenate library provided by keras and apply dense network with activation 'softmax' as the last layer of the model. Further compiling the data with adam optimizer and sparse categorical cross entropy loss to tackle the categorical data we have and fitting it with a batch size of 32 and ran for 20 epochs for better training of the model."
      ]
    },
    {
      "cell_type": "markdown",
      "metadata": {
        "id": "wMYhes73nQSp"
      },
      "source": [
        "# **Results**"
      ]
    },
    {
      "cell_type": "markdown",
      "metadata": {
        "id": "yVSd9OtwnQHu"
      },
      "source": [
        "1. Most of the calls to 911 are categorized under 3 major reasons and the highest number of calls received were under the category - EMS\n",
        "2. On most of the days, EMS was the reason for highest calls and day 23 has highest traffic calls\n",
        "3. Distribution according to month shows that the maximum number of calls were for EMS and then traffic and then is fire\n",
        "4. In the graph,darker the colour more are the cases, therefore according to the heatmap at hours between 12AM to 5:30 AM everyday there are a lot of complaints registered. On the other hand, between 11AM to 6:30PM there are least, mainly on 10th to 23rd day of each month\n"
      ]
    },
    {
      "cell_type": "markdown",
      "metadata": {
        "id": "K_rN4-vBnQCu"
      },
      "source": [
        "# **Conclusion & Interpretation**"
      ]
    },
    {
      "cell_type": "markdown",
      "metadata": {
        "id": "jfBLBZnrnYQT"
      },
      "source": [
        "The model giving 99% accuracy which means that whatever we are predicting is biased towards EMS. The model is overfitting and one of the reasons that could be is that the data we have is biased as we have a lot of EMS values in our data. So, whatever the model is predicting might be correct for EMS but we cannot say that for other two reasons(Fire, Traffic) because we do not have enough data for Fire and Traffic."
      ]
    },
    {
      "cell_type": "markdown",
      "metadata": {
        "id": "2Fj8lgqVnYIk"
      },
      "source": [
        "# **Limitation & Later Work**"
      ]
    },
    {
      "cell_type": "markdown",
      "metadata": {
        "id": "EIWlv1Y5nYAQ"
      },
      "source": [
        "The model can be further improved by cleaning the data more as it is somehow overfitting. Further analysis can be done to identify areas with high volume of accidents, health issues etc. With this knowledge, resources can be allocated accordingly. The focus of my project was just 3 reasons for 911 calls, for later work I will focus on more data cleaning and also look into creating a model to help predict the number of emergency calls over a period, which when exceeded alarms the authorities about the need of more resources. \n",
        "\n",
        "My initial steps will be to find more data available and training with the model with more data layers and different activation fuctions. For this project I have used relu, so further I will try to train it with leaky-relu because that is a better activation function as it overcomes the problem of vanishing gradients more precisely. "
      ]
    },
    {
      "cell_type": "markdown",
      "metadata": {
        "id": "aY3FmBtmnX84"
      },
      "source": [
        "# **Documents Submitted** "
      ]
    },
    {
      "cell_type": "markdown",
      "metadata": {
        "id": "aNrJ4lmOnlPi"
      },
      "source": [
        "### Notebook \n",
        "\n",
        "    Technical Notebook: FinalProject.ipynb\n",
        "\n",
        "### Summary Report \n",
        "\n",
        "     FinalProjectReport.ipynb\n",
        "\n",
        "### Dataset \n",
        "\n",
        "    911.csv"
      ]
    },
    {
      "cell_type": "markdown",
      "metadata": {
        "id": "r4T3Z_fInlBu"
      },
      "source": [
        "# **References**"
      ]
    },
    {
      "cell_type": "markdown",
      "metadata": {
        "id": "oy6ViS-Jnk9i"
      },
      "source": [
        "https://keras.io/guides/preprocessing_layers/\n",
        "\n",
        "https://www.mygreatlearning.com/blog/keras-tutorial/\n",
        "\n",
        "https://machinelearningmastery.com/how-to-one-hot-encode-sequence-data-in-python/\n",
        "\n",
        "https://www.mygreatlearning.com/blog/keras-tutorial/\n",
        "\n",
        "https://www.kaggle.com/mchirico/montcoalert\n",
        "\n",
        "http://man.hubwiz.com/docset/TensorFlow.docset/Contents/Resources/Documents/api_docs/python/tf/keras/models/Model.html\n",
        "\n",
        "https://github.com/GoogleCloudPlatform/training-data-analyst/blob/master/courses/machine_learning/deepdive/09_sequence_keras/sinemodel/model.py\n",
        "\n"
      ]
    }
  ]
}